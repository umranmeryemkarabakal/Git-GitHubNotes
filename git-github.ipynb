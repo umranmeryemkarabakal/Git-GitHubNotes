{
 "cells": [
  {
   "cell_type": "markdown",
   "id": "8cbbeecc-d260-47d4-bab6-20315e20ad95",
   "metadata": {},
   "source": [
    "git bash terminali users dizini"
   ]
  },
  {
   "cell_type": "markdown",
   "id": "828cf5fd",
   "metadata": {},
   "source": [
    "ls: içersinde bulunduğumuz klasördeki dosya ve klasörleri gösterir\n",
    "ls -la: gizli klasörleri de gösterir\n",
    "pwd: bulunduğu klasörün yolunu gösterir\n",
    "cd file: file isimli klasöre gider, change director\n",
    "cd ..: bir önceki klasöre geri gider\n",
    "clear: ekranı temizler\n",
    "mkdir newFile: make direktory, newFile isimli yeni klasör oluşturur\n",
    "touch note.txt: note isimli txt dosyası oluşturur\n",
    "rm note.txt: remove dosyayı kaldırır\n",
    "rm -rf newFile: newFile isimli dosyayı siler"
   ]
  },
  {
   "cell_type": "markdown",
   "id": "a3d6bca8-ca8f-403e-b7c8-b90f6cd9d504",
   "metadata": {},
   "source": [
    "git: yardım komutu git'in documantasyonunu gösterir\n",
    "git --version: gitin versiyonunu gösterir\n",
    "git config user.name: git kullanıcı adını gösterir\n",
    "git config user.email: git emailini gösterir"
   ]
  },
  {
   "cell_type": "raw",
   "id": "fe2ebdaa-70b1-47de-b28c-c551b421429b",
   "metadata": {},
   "source": [
    "git config --global user.name \"meryem karabakal\": git'e kullanıcı adı ekler\n",
    "git config --global user.email meryem.sapanca.54@gmail.com: git'e email ekler"
   ]
  },
  {
   "cell_type": "markdown",
   "id": "721c4086-bafe-4f79-9e3c-512ca1895a2d",
   "metadata": {},
   "source": [
    "git bash terminali git'in takip edeceği klasör"
   ]
  },
  {
   "cell_type": "markdown",
   "id": "82bbd5d3-97fe-4c11-88b3-3310a6d4e976",
   "metadata": {},
   "source": [
    "git status: git'in durumunu gösterir\n",
    "git init: git başlatılır, klasördeki her şey repositori'ye dahil edilir\n",
    "git add note.txt: note dosyasını takip etmeye başlar, index-staging ekler\n",
    "git add .: tüm klasörü indexler\n",
    "git commit -m \"note created\": git'e 'note created'mesajıyla commit atar, local repository ekler \n",
    "git commit -a: otomatik tüm klasöre commit atar\n",
    "git log: atılan commitleri ve commit bilgilerini gösterir, her commitin hash'i numarası vardır "
   ]
  },
  {
   "cell_type": "markdown",
   "id": "8a6d5858-1cb7-4319-9b83-443d81b14a0c",
   "metadata": {},
   "source": [
    "yanlışıkla klasöre git eklenirse .git dosyası silerek kaldırılabilir"
   ]
  },
  {
   "cell_type": "markdown",
   "id": "22e359cd-2cda-49c4-8d6b-2cc099c39228",
   "metadata": {},
   "source": [
    "\n",
    "\".gitignore\" dosyası oluşturulup dosyaya indexleme yapılmayacak dosyaların adı yazılırsa git, .gitignore ve içine adı yazılan dosyaları takip etmez"
   ]
  },
  {
   "cell_type": "markdown",
   "id": "ec5e189b-ed8c-4e02-8202-cb3a8f9da060",
   "metadata": {},
   "source": [
    "gitignore template python: https://github.com/github/gitignore/blob/main/Python.gitignore"
   ]
  },
  {
   "cell_type": "markdown",
   "id": "9e4dc693-04e8-49dd-9056-0d1e163d7570",
   "metadata": {},
   "source": [
    "git branch feat: feat isimli yeni bir branch açar \n",
    "git switch master/main: master/main branch'ına geçer\n",
    "git merge feat: feat branch'i main ile birleşir\n",
    "git branch: hangi branc'da olduğunu gösterir"
   ]
  },
  {
   "cell_type": "markdown",
   "id": "649fbf7d-265a-4c9e-8085-749fadc75348",
   "metadata": {},
   "source": [
    "git stash: dosyalar commit yapmadan stah'de saklanır\n",
    "git stash pop: saklanan dosyalar geri yüklenir\n",
    "git stash list: güncel saklanan değişikleri listeler\n",
    "git stash apply stash@{0}: listenin ilk öğesini geri yükler\n",
    "git stash clear: tüm stashleri temizler\n",
    "git stash apply: stashı geri getirir fakat stash listesinden çıkarmaz"
   ]
  },
  {
   "cell_type": "markdown",
   "id": "e963e59c-f135-4677-94d7-859e736ec628",
   "metadata": {},
   "source": [
    "git checkout commitId: hash'i girilen commite döner\n",
    "git restore: en sonki commit haline döndürür\n",
    "git restore note.txt: dosyanın en sonki commit haline döndürür\n",
    "git reset commitId: önceki commite döndüğümüzde sonraki yazılanlar kalır, sonraki commitler silinir\n",
    "git reset --hard commitId'si: önceki commite döndüğümüzde sonraki commitler ve içeriği silinir\n",
    "git revert commitId: commiti geri alır"
   ]
  },
  {
   "cell_type": "markdown",
   "id": "effc51ba-b51a-4467-bf4c-0cd95821a7d4",
   "metadata": {},
   "source": [
    "git diff: add yapıldıktan sonra yapılan değişiklikleri gösterir, güncel klsördeki işlemleri gösterir\n",
    "git diff HEAD: son commite göre neler değiştiğini gösterir\n",
    "git diff 1.commitId 2.commitId: iki commit arasındaki değişikliği gösterir (git diff 1.commitId..2.commitId)\n",
    "git diff master feat: iki branch arasındaki farkları gösterir (git diff master..feat)"
   ]
  },
  {
   "cell_type": "markdown",
   "id": "28e5037a-5d47-4e81-85d9-014f814b45ef",
   "metadata": {},
   "source": [
    "git rebease master: feat'e master'ı bir kaç kere mergelendikten sonra git logların sırasını değiştirerek önce master commitlerini sonra feat commitlerini dizer (feat'in içinde çalıştırılır)"
   ]
  },
  {
   "cell_type": "markdown",
   "id": "621ae917-eb38-4989-8520-7e4bfa5788c9",
   "metadata": {},
   "source": [
    "git bash terminalinde githuba eklenecek klasör"
   ]
  },
  {
   "cell_type": "markdown",
   "id": "c371451c-cdbd-4851-8df7-d6f08695a2c7",
   "metadata": {},
   "source": [
    "git remote add origin https://github.com/kullaniciAdi/repositoryAdi: projeyi git remote atar, origin sonraki işlemlerde url yerine kullanılır, origin(url) remote(uzak) gitdir\n",
    "git push -u origin main/master: master'ı origin'e yollar push eder\n",
    "git push origin master, git push: sonraki pushlarda yazılabilir\n",
    "git push origin feat: feat branch'ini push eder"
   ]
  },
  {
   "cell_type": "markdown",
   "id": "326a030c-5224-4584-a9a4-cde3f53883b3",
   "metadata": {},
   "source": [
    "git branch -r: remote branch'ler de görüntülenir\n",
    "git remote: remote'ları görüntüler"
   ]
  },
  {
   "cell_type": "markdown",
   "id": "c4fc5f09-0ddb-4685-9865-03ada888143b",
   "metadata": {},
   "source": [
    "fetch,pull: github'da pull request yapılınca git log ile git bash'ın geride kaldığı görülürse, değişikleri local git'e getirir\n",
    "git fetch origin/master: origin'den master'ı getirir.\n",
    "git checkout origin/master: remote master branch'ına geçer, github'daki değişiklikler görüntülenebilir\n",
    "git pull origin master: git fetch + git merge"
   ]
  },
  {
   "cell_type": "markdown",
   "id": "e7efea5d-364b-4944-93fb-75826eacf457",
   "metadata": {},
   "source": [
    "git bash'de github'dan almak istediğimiz repository'nin kaydedileceği klasör"
   ]
  },
  {
   "cell_type": "markdown",
   "id": "e4d9ac79-1c70-4aa4-a123-73a7d6af0db0",
   "metadata": {},
   "source": [
    "git clone https://github.com/kullaniciAdi/repositoryAdi.git: github'daki repository'i klasöre alır"
   ]
  },
  {
   "cell_type": "markdown",
   "id": "8ef4d508-1f8c-4fb4-8bde-7318bb064c29",
   "metadata": {},
   "source": [
    "git push yapılamaz, git pull yapılabilir\n",
    "repository fork yapılırsa işlemler gerçekleştirilebilir"
   ]
  }
 ],
 "metadata": {
  "kernelspec": {
   "display_name": "Python 3 (ipykernel)",
   "language": "python",
   "name": "python3"
  },
  "language_info": {
   "codemirror_mode": {
    "name": "ipython",
    "version": 3
   },
   "file_extension": ".py",
   "mimetype": "text/x-python",
   "name": "python",
   "nbconvert_exporter": "python",
   "pygments_lexer": "ipython3",
   "version": "3.12.4"
  }
 },
 "nbformat": 4,
 "nbformat_minor": 5
}
